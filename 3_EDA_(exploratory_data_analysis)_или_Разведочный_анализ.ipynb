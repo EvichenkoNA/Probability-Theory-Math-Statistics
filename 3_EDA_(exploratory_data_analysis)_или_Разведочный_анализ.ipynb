{
  "cells": [
    {
      "cell_type": "code",
      "execution_count": null,
      "id": "a3a06ab2",
      "metadata": {
        "id": "a3a06ab2"
      },
      "outputs": [],
      "source": [
        "import numpy as np\n",
        "from math import factorial, sqrt"
      ]
    },
    {
      "cell_type": "code",
      "execution_count": null,
      "id": "a246c7f2",
      "metadata": {
        "id": "a246c7f2"
      },
      "outputs": [],
      "source": [
        "# Формула сочетания\n",
        "def combinations(n, k):\n",
        "    return int(factorial(n) / (factorial(k) * factorial(n - k)))"
      ]
    },
    {
      "cell_type": "markdown",
      "id": "96653057",
      "metadata": {
        "id": "96653057"
      },
      "source": [
        "#### Задача 1 \n",
        "Даны значения зарплат из выборки выпускников: 100, 80, 75, 77, 89, 33, 45, 25, 65, 17, 30, 24, 57, 55, 70, 75, 65, 84, 90, 150. Посчитать (желательно без использования статистических методов наподобие std, var, mean) среднее арифметическое, среднее квадратичное отклонение, смещенную и несмещенную оценки дисперсий для данной выборки."
      ]
    },
    {
      "cell_type": "code",
      "execution_count": null,
      "id": "8c660c3b",
      "metadata": {
        "id": "8c660c3b"
      },
      "outputs": [],
      "source": [
        "salaries = [100, 80, 75, 77, 89, 33, 45, 25, 65, 17, 30, 24, 57, 55, 70, 75, 65, 84, 90, 150]"
      ]
    },
    {
      "cell_type": "code",
      "execution_count": null,
      "id": "e2f63085",
      "metadata": {
        "id": "e2f63085",
        "outputId": "f9c849d3-8e65-4dcf-f7f4-8131f25e4fd5"
      },
      "outputs": [
        {
          "name": "stdout",
          "output_type": "stream",
          "text": [
            "[17, 24, 25, 30, 33, 45, 55, 57, 65, 65, 70, 75, 75, 77, 80, 84, 89, 90, 100, 150]\n"
          ]
        }
      ],
      "source": [
        "# Сортируем по возрастанию\n",
        "salaries.sort()\n",
        "print(salaries)"
      ]
    },
    {
      "cell_type": "code",
      "execution_count": null,
      "id": "c1a5aa5f",
      "metadata": {
        "scrolled": true,
        "id": "c1a5aa5f",
        "outputId": "de3f92a9-5962-4f89-af29-80936f353ef1"
      },
      "outputs": [
        {
          "data": {
            "text/plain": [
              "20"
            ]
          },
          "execution_count": 53,
          "metadata": {},
          "output_type": "execute_result"
        }
      ],
      "source": [
        "len(salaries)"
      ]
    },
    {
      "cell_type": "markdown",
      "id": "b101bd13",
      "metadata": {
        "id": "b101bd13"
      },
      "source": [
        "###### Среднее арифметическое:"
      ]
    },
    {
      "cell_type": "code",
      "execution_count": null,
      "id": "6158c32c",
      "metadata": {
        "id": "6158c32c",
        "outputId": "b6725546-57f8-4687-f509-a0bdac835a08"
      },
      "outputs": [
        {
          "data": {
            "text/plain": [
              "65.3"
            ]
          },
          "execution_count": 54,
          "metadata": {},
          "output_type": "execute_result"
        }
      ],
      "source": [
        "ave = sum(salaries) / len(salaries)\n",
        "ave"
      ]
    },
    {
      "cell_type": "code",
      "execution_count": null,
      "id": "f3efee3e",
      "metadata": {
        "id": "f3efee3e",
        "outputId": "c9e1d7cd-0f16-443c-a978-c8df614ba0b2"
      },
      "outputs": [
        {
          "data": {
            "text/plain": [
              "65.3"
            ]
          },
          "execution_count": 55,
          "metadata": {},
          "output_type": "execute_result"
        }
      ],
      "source": [
        "np.mean(salaries)"
      ]
    },
    {
      "cell_type": "markdown",
      "id": "29f80bed",
      "metadata": {
        "id": "29f80bed"
      },
      "source": [
        "##### Среднее квадратичное отклонение:"
      ]
    },
    {
      "cell_type": "code",
      "execution_count": null,
      "id": "bc8de0e2",
      "metadata": {
        "id": "bc8de0e2",
        "outputId": "de60fe4a-0f18-4183-b302-64d07004f0a0"
      },
      "outputs": [
        {
          "data": {
            "text/plain": [
              "30.823854398825592"
            ]
          },
          "execution_count": 56,
          "metadata": {},
          "output_type": "execute_result"
        }
      ],
      "source": [
        "sqrt(sum([(i - ave) ** 2 / len(salaries) for i in salaries]))"
      ]
    },
    {
      "cell_type": "code",
      "execution_count": null,
      "id": "d8e81585",
      "metadata": {
        "id": "d8e81585",
        "outputId": "8ca12702-2b95-489b-8140-a5c5e8d0a067"
      },
      "outputs": [
        {
          "data": {
            "text/plain": [
              "30.823854398825592"
            ]
          },
          "execution_count": 57,
          "metadata": {},
          "output_type": "execute_result"
        }
      ],
      "source": [
        "np.std(salaries, ddof=0)"
      ]
    },
    {
      "cell_type": "markdown",
      "id": "f1d64dbe",
      "metadata": {
        "id": "f1d64dbe"
      },
      "source": [
        "##### Смещенная оценка дисперсии:"
      ]
    },
    {
      "cell_type": "code",
      "execution_count": null,
      "id": "0e62fd47",
      "metadata": {
        "id": "0e62fd47",
        "outputId": "6c1a949c-72db-4b3b-faf6-04add2dd9983"
      },
      "outputs": [
        {
          "name": "stdout",
          "output_type": "stream",
          "text": [
            "950.1099999999999\n"
          ]
        }
      ],
      "source": [
        "print(sum([(i - ave) ** 2 / len(salaries) for i in salaries]))"
      ]
    },
    {
      "cell_type": "code",
      "execution_count": null,
      "id": "0abb9da1",
      "metadata": {
        "id": "0abb9da1",
        "outputId": "9cb18b5a-1e0d-4700-8b6a-d20da041b44e"
      },
      "outputs": [
        {
          "data": {
            "text/plain": [
              "950.1099999999999"
            ]
          },
          "execution_count": 59,
          "metadata": {},
          "output_type": "execute_result"
        }
      ],
      "source": [
        "np.var(salaries)"
      ]
    },
    {
      "cell_type": "markdown",
      "id": "21847f1b",
      "metadata": {
        "id": "21847f1b"
      },
      "source": [
        "##### Несмещенная оценка дисперсии:"
      ]
    },
    {
      "cell_type": "code",
      "execution_count": null,
      "id": "45cabb92",
      "metadata": {
        "id": "45cabb92",
        "outputId": "01643dc2-e18c-4ffb-95f1-63782d5ee5a4"
      },
      "outputs": [
        {
          "name": "stdout",
          "output_type": "stream",
          "text": [
            "1000.1157894736841\n"
          ]
        }
      ],
      "source": [
        "print(sum([(i - ave) ** 2 / (len(salaries) - 1)  for i in salaries]))"
      ]
    },
    {
      "cell_type": "code",
      "execution_count": null,
      "id": "1b8baa23",
      "metadata": {
        "id": "1b8baa23",
        "outputId": "715234e7-6114-4da0-f82e-76a0c2e94f8e"
      },
      "outputs": [
        {
          "data": {
            "text/plain": [
              "1000.115789473684"
            ]
          },
          "execution_count": 61,
          "metadata": {},
          "output_type": "execute_result"
        }
      ],
      "source": [
        "np.var(salaries, ddof=1)"
      ]
    },
    {
      "cell_type": "markdown",
      "id": "c85a56fe",
      "metadata": {
        "id": "c85a56fe"
      },
      "source": [
        "#### Задача 2\n",
        "В первом ящике находится 8 мячей, из которых 5 - белые. Во втором ящике - 12 мячей, из которых 5 белых. Из первого ящика вытаскивают случайным образом два мяча, из второго - 4. Какова вероятность того, что 3 мяча белые?"
      ]
    },
    {
      "cell_type": "code",
      "execution_count": null,
      "id": "96d6d3a9",
      "metadata": {
        "id": "96d6d3a9",
        "outputId": "9120ac02-6cd9-4075-b1b0-7d6f6906d5c4"
      },
      "outputs": [
        {
          "data": {
            "text/plain": [
              "0.01515151515151515"
            ]
          },
          "execution_count": 62,
          "metadata": {},
          "output_type": "execute_result"
        }
      ],
      "source": [
        "# 0 белых мяча из первого ящика и 3 из второго ящика\n",
        "p1 = (combinations(5, 0) * combinations(3, 2)) / combinations(8, 2) * ((combinations(5, 3) * combinations(7, 1)) / combinations(12, 4))\n",
        "p1"
      ]
    },
    {
      "cell_type": "code",
      "execution_count": null,
      "id": "ab373049",
      "metadata": {
        "id": "ab373049",
        "outputId": "dfe54669-e175-4b7c-c9d3-639c40783aec"
      },
      "outputs": [
        {
          "data": {
            "text/plain": [
              "0.22727272727272727"
            ]
          },
          "execution_count": 63,
          "metadata": {},
          "output_type": "execute_result"
        }
      ],
      "source": [
        "# 2 белых мяча из первого ящика и 1 из второго ящика\n",
        "p2 = (combinations(5, 1) * combinations(3, 1)) / combinations(8, 2) * ((combinations(5, 2) * combinations(7, 2)) / combinations(12, 4))\n",
        "p2"
      ]
    },
    {
      "cell_type": "code",
      "execution_count": null,
      "id": "5ba45742",
      "metadata": {
        "id": "5ba45742",
        "outputId": "ccc919db-9242-42f9-b134-ae7d094f03bf"
      },
      "outputs": [
        {
          "data": {
            "text/plain": [
              "0.12626262626262627"
            ]
          },
          "execution_count": 64,
          "metadata": {},
          "output_type": "execute_result"
        }
      ],
      "source": [
        "# 1 белый мяч из первого ящика и 2 из второго ящика\n",
        "p3 = (combinations(5, 2) * combinations(3, 0)) / combinations(8, 2) * ((combinations(5, 1) * combinations(7, 3)) / combinations(12, 4))\n",
        "p3"
      ]
    },
    {
      "cell_type": "code",
      "execution_count": null,
      "id": "dcb280b9",
      "metadata": {
        "id": "dcb280b9",
        "outputId": "a7aa2f97-be86-4048-ddf0-07c24432c2b5"
      },
      "outputs": [
        {
          "data": {
            "text/plain": [
              "0.3686868686868687"
            ]
          },
          "execution_count": 65,
          "metadata": {},
          "output_type": "execute_result"
        }
      ],
      "source": [
        "p = p1 + p2 + p3 \n",
        "p"
      ]
    },
    {
      "cell_type": "markdown",
      "id": "650da02a",
      "metadata": {
        "id": "650da02a"
      },
      "source": [
        "#### Задача 3\n",
        "На соревновании по биатлону один из трех спортсменов стреляет и попадает в мишень. Вероятность попадания для первого спортсмена равна 0.9, для второго — 0.8, для третьего — 0.6. Найти вероятность того, что выстрел произведен: a). первым спортсменом б). вторым спортсменом в). третьим спортсменом.\n",
        "\n",
        "##### Формула Байеса\n",
        "\n",
        "Событием $A$ будем считать попадание в мишень, а событиями $B_1, B_2$ и $B_3$ \n",
        " — что выстрел совершил первый, второй или третий спортсмен:\n",
        "\n",
        "Вероятность того, что стрелял первый спортсмен (и аналогично другие два) — при условии, что выстрел был удачным, — будем находить по формуле:\n",
        "\n",
        "$$P(A\\:|\\:B_1) = 0.9$$\n",
        "$$P(A\\:|\\:B_2) = 0.8$$\n",
        "$$P(A\\:|\\:B_3) = 0.6$$\n",
        "\n",
        "Вероятность того, что стрелял первый спортсмен (и аналогично другие два) — при условии, что выстрел был удачным, — будем находить по формуле:\n",
        "\n",
        "$$P(B_1\\:|\\:A) = \\frac{P(B_1) \\cdot P(A\\:|\\:B_1)}{P(A)}$$"
      ]
    },
    {
      "cell_type": "code",
      "execution_count": null,
      "id": "234f4275",
      "metadata": {
        "id": "234f4275",
        "outputId": "6d36c8d3-1ff6-453a-c1c7-4454d012dc07"
      },
      "outputs": [
        {
          "data": {
            "text/plain": [
              "0.39"
            ]
          },
          "execution_count": 66,
          "metadata": {},
          "output_type": "execute_result"
        }
      ],
      "source": [
        "# Первый спортсмен\n",
        "p1 = round((1/3 * 0.9) / ((1/3 * 0.9) + (1/3 * 0.8) + (1/3 * 0.6)), 2)\n",
        "p1"
      ]
    },
    {
      "cell_type": "code",
      "execution_count": null,
      "id": "93e14faf",
      "metadata": {
        "id": "93e14faf",
        "outputId": "0a7b6f19-f8b1-4336-af5f-7734253eb3dc"
      },
      "outputs": [
        {
          "data": {
            "text/plain": [
              "0.35"
            ]
          },
          "execution_count": 67,
          "metadata": {},
          "output_type": "execute_result"
        }
      ],
      "source": [
        "# Второй спортсмен\n",
        "p2 = round((1/3 * 0.8) / ((1/3 * 0.9) + (1/3 * 0.8) + (1/3 * 0.6)), 2)\n",
        "p2"
      ]
    },
    {
      "cell_type": "code",
      "execution_count": null,
      "id": "ea44b224",
      "metadata": {
        "id": "ea44b224",
        "outputId": "9e47c79e-34c0-45ca-cc5e-61c3daa9e76c"
      },
      "outputs": [
        {
          "data": {
            "text/plain": [
              "0.26"
            ]
          },
          "execution_count": 68,
          "metadata": {},
          "output_type": "execute_result"
        }
      ],
      "source": [
        "# Третий спортсмен\n",
        "p3 = round((1/3 * 0.6) / ((1/3 * 0.9) + (1/3 * 0.8) + (1/3 * 0.6)), 2)\n",
        "p3"
      ]
    },
    {
      "cell_type": "code",
      "execution_count": null,
      "id": "3d24ce3b",
      "metadata": {
        "id": "3d24ce3b",
        "outputId": "416f0b3c-bc87-4f77-931d-a05521531cee"
      },
      "outputs": [
        {
          "data": {
            "text/plain": [
              "1.0"
            ]
          },
          "execution_count": 69,
          "metadata": {},
          "output_type": "execute_result"
        }
      ],
      "source": [
        "# Проверка\n",
        "p1 + p2 + p3"
      ]
    },
    {
      "cell_type": "markdown",
      "id": "cb7fdd0f",
      "metadata": {
        "id": "cb7fdd0f"
      },
      "source": [
        "#### Задача 4\n",
        "В университет на факультеты A и B поступило равное количество студентов, а на факультет C студентов поступило столько же, сколько на A и B вместе. Вероятность того, что студент факультета A сдаст первую сессию, равна 0.8. Для студента факультета B эта вероятность равна 0.7, а для студента факультета C - 0.9. Студент сдал первую сессию.\n",
        "Какова вероятность, что он учится: a). на факультете A б). на факультете B в). на факультете C?\n",
        "\n",
        "Возьмем общее количество поступивших студентов на факультет за 1, значит:\n"
      ]
    },
    {
      "cell_type": "code",
      "execution_count": null,
      "id": "dad22113",
      "metadata": {
        "id": "dad22113"
      },
      "outputs": [],
      "source": [
        "A = B = 0.25\n",
        "C = 0.5"
      ]
    },
    {
      "cell_type": "code",
      "execution_count": null,
      "id": "a50c95ee",
      "metadata": {
        "id": "a50c95ee",
        "outputId": "1e7ad9a0-eb66-4cf3-df11-0b09f8e00dcd"
      },
      "outputs": [
        {
          "data": {
            "text/plain": [
              "0.825"
            ]
          },
          "execution_count": 71,
          "metadata": {},
          "output_type": "execute_result"
        }
      ],
      "source": [
        "# Вероятность сдать первую сессию успешно студентом из любого факультета\n",
        "(0.25 * 0.8) + (0.25 * 0.7) + (0.5 * 0.9)"
      ]
    },
    {
      "cell_type": "markdown",
      "id": "a2e25aeb",
      "metadata": {
        "id": "a2e25aeb"
      },
      "source": [
        "##### Формула Байеса\n",
        "\n",
        "Событием $A$ будем считать попадание в мишень, а событиями $B_1, B_2$ и $B_3$ \n",
        " — что студент учится на факультете А, на факультет B или на факультете C:"
      ]
    },
    {
      "cell_type": "markdown",
      "id": "aabfdb9e",
      "metadata": {
        "id": "aabfdb9e"
      },
      "source": [
        "$$P(A\\:|\\:B_1) = 0.8$$\n",
        "$$P(A\\:|\\:B_2) = 0.7$$\n",
        "$$P(A\\:|\\:B_3) = 0.9$$\n",
        "\n",
        "$$P(B_1\\:|\\:A) = \\frac{P(B_1) \\cdot P(A\\:|\\:B_1)}{P(A)}$$"
      ]
    },
    {
      "cell_type": "code",
      "execution_count": null,
      "id": "1d51be4b",
      "metadata": {
        "id": "1d51be4b",
        "outputId": "0dd7db01-4555-47b4-d89f-1010a6c5a72c"
      },
      "outputs": [
        {
          "data": {
            "text/plain": [
              "0.24"
            ]
          },
          "execution_count": 72,
          "metadata": {},
          "output_type": "execute_result"
        }
      ],
      "source": [
        "# Студент учится на первом факультете A\n",
        "round((0.25 * 0.8) / ((0.25 * 0.8) + (0.25 * 0.7) + (0.5 * 0.9)), 2)"
      ]
    },
    {
      "cell_type": "code",
      "execution_count": null,
      "id": "e6f87be1",
      "metadata": {
        "id": "e6f87be1",
        "outputId": "fd2dad30-6acb-4f09-bede-6673dca7d605"
      },
      "outputs": [
        {
          "data": {
            "text/plain": [
              "0.21"
            ]
          },
          "execution_count": 73,
          "metadata": {},
          "output_type": "execute_result"
        }
      ],
      "source": [
        "# Студент учится на втором факультете B\n",
        "round((0.25 * 0.7) / ((0.25 * 0.8) + (0.25 * 0.7) + (0.5 * 0.9)), 2)"
      ]
    },
    {
      "cell_type": "code",
      "execution_count": null,
      "id": "c9043af4",
      "metadata": {
        "id": "c9043af4",
        "outputId": "567cbae5-0bbd-40e0-ae33-09ef4b90542b"
      },
      "outputs": [
        {
          "data": {
            "text/plain": [
              "0.55"
            ]
          },
          "execution_count": 74,
          "metadata": {},
          "output_type": "execute_result"
        }
      ],
      "source": [
        "# Студент учится на третьем факультете C\n",
        "round((0.5 * 0.9) / ((0.25 * 0.8) + (0.25 * 0.7) + (0.5 * 0.9)), 2)"
      ]
    },
    {
      "cell_type": "markdown",
      "id": "95892952",
      "metadata": {
        "id": "95892952"
      },
      "source": [
        "#### Задача 5\n",
        "\n",
        "Устройство состоит из трех деталей. Для первой детали вероятность выйти из строя в первый месяц равна 0.1, для второй - 0.2, для третьей - 0.25.\n",
        "Какова вероятность того, что в первый месяц выйдут из строя: а). все детали б). только две детали в). хотя бы одна деталь г). от одной до двух деталей?"
      ]
    },
    {
      "cell_type": "code",
      "execution_count": null,
      "id": "9a623cca",
      "metadata": {
        "id": "9a623cca"
      },
      "outputs": [],
      "source": [
        "p1 = 0.1; q1 = 0.9\n",
        "p2 = 0.2; q2 = 0.8\n",
        "p3 = 0.25; q3 = 0.75"
      ]
    },
    {
      "cell_type": "markdown",
      "id": "4639c1e9",
      "metadata": {
        "id": "4639c1e9"
      },
      "source": [
        "##### **а) Вероятность, что все детали выйдут из строя**"
      ]
    },
    {
      "cell_type": "code",
      "execution_count": null,
      "id": "4c8cf38f",
      "metadata": {
        "id": "4c8cf38f",
        "outputId": "5fa24d69-843b-4700-80bd-ebb7ec1722bf"
      },
      "outputs": [
        {
          "data": {
            "text/plain": [
              "0.005"
            ]
          },
          "execution_count": 76,
          "metadata": {},
          "output_type": "execute_result"
        }
      ],
      "source": [
        "round((0.1 * 0.2 * 0.25), 3)"
      ]
    },
    {
      "cell_type": "markdown",
      "id": "6619bb9e",
      "metadata": {
        "id": "6619bb9e"
      },
      "source": [
        "##### **б) Выйдут из строя только 2 детали**"
      ]
    },
    {
      "cell_type": "code",
      "execution_count": null,
      "id": "19e8b174",
      "metadata": {
        "id": "19e8b174",
        "outputId": "f54c5730-96db-46c5-c18e-f5a410c62271"
      },
      "outputs": [
        {
          "data": {
            "text/plain": [
              "0.08"
            ]
          },
          "execution_count": 77,
          "metadata": {},
          "output_type": "execute_result"
        }
      ],
      "source": [
        "round((0.1 * 0.2 * 0.75) + (0.1 * 0.8 * 0.25) + (0.9 * 0.2 * 0.25), 3)"
      ]
    },
    {
      "cell_type": "markdown",
      "id": "96951f53",
      "metadata": {
        "id": "96951f53"
      },
      "source": [
        "##### **в) Выйдет из строя хотя бы одна деталь**"
      ]
    },
    {
      "cell_type": "code",
      "execution_count": null,
      "id": "3bfb37b6",
      "metadata": {
        "id": "3bfb37b6",
        "outputId": "74a943fc-7dcb-4cbe-8172-8d5e5296d99f"
      },
      "outputs": [
        {
          "data": {
            "text/plain": [
              "0.46"
            ]
          },
          "execution_count": 78,
          "metadata": {},
          "output_type": "execute_result"
        }
      ],
      "source": [
        "round((1 - 0.54), 3)"
      ]
    },
    {
      "cell_type": "markdown",
      "id": "7b194857",
      "metadata": {
        "id": "7b194857"
      },
      "source": [
        "##### **г) Выйдет из строя от одной до двух деталей**"
      ]
    },
    {
      "cell_type": "code",
      "execution_count": null,
      "id": "6ca0a1d6",
      "metadata": {
        "id": "6ca0a1d6",
        "outputId": "d3eaad13-f808-4656-8eef-58e51f611df9"
      },
      "outputs": [
        {
          "data": {
            "text/plain": [
              "0.455"
            ]
          },
          "execution_count": 79,
          "metadata": {},
          "output_type": "execute_result"
        }
      ],
      "source": [
        "round(1 - 0.54 - 0.005, 3)"
      ]
    }
  ],
  "metadata": {
    "kernelspec": {
      "display_name": "Python 3 (ipykernel)",
      "language": "python",
      "name": "python3"
    },
    "language_info": {
      "codemirror_mode": {
        "name": "ipython",
        "version": 3
      },
      "file_extension": ".py",
      "mimetype": "text/x-python",
      "name": "python",
      "nbconvert_exporter": "python",
      "pygments_lexer": "ipython3",
      "version": "3.10.9"
    },
    "colab": {
      "provenance": []
    }
  },
  "nbformat": 4,
  "nbformat_minor": 5
}